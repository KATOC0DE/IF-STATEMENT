{
 "cells": [
  {
   "cell_type": "code",
   "execution_count": 1,
   "metadata": {
    "colab": {
     "base_uri": "https://localhost:8080/"
    },
    "id": "ozZwN2z15j3e",
    "outputId": "d999b218-e801-4ab4-e4c8-cc0ae3d416b3"
   },
   "outputs": [
    {
     "name": "stdout",
     "output_type": "stream",
     "text": [
      "X is 💯 That is True!\n"
     ]
    }
   ],
   "source": [
    "# if statements are used to test for particular conditions and respond appropriately\n",
    "\n",
    "# equals          |  x == 100\n",
    "# not equal       |  x != 100\n",
    "# greater than    |  x >  100\n",
    "#   or equal to   |  x >= 100\n",
    "# less than       |  x <  100\n",
    "#   or equal to   |  x <= 100\n",
    "\n",
    "x = 100\n",
    "if x == 100:\n",
    "  print('X is 💯 That is True!')\n",
    "if x < 100:\n",
    "  print('X ⤵️ is less than 10 True')\n",
    "if x > 100:\n",
    "  print('X ⤴️ is more Than 10 True!')"
   ]
  },
  {
   "cell_type": "code",
   "execution_count": 2,
   "metadata": {
    "colab": {
     "base_uri": "https://localhost:8080/"
    },
    "id": "haSWfi_LgrxO",
    "outputId": "517e9864-1dd4-4691-df28-4f82a2445996"
   },
   "outputs": [
    {
     "name": "stdout",
     "output_type": "stream",
     "text": [
      "X ⤴️ is more Than 100 True!\n"
     ]
    }
   ],
   "source": [
    "x = 1000\n",
    "if x == 100:\n",
    "  print('X is 💯 That is True!')\n",
    "if x < 100:\n",
    "  print('X ⤵️ is less than 100 True')\n",
    "if x > 100:\n",
    "  print('X ⤴️ is more Than 100 True!')\n"
   ]
  },
  {
   "cell_type": "code",
   "execution_count": 3,
   "metadata": {
    "colab": {
     "base_uri": "https://localhost:8080/"
    },
    "id": "TtcBLz9YiJtR",
    "outputId": "731717a2-5a77-4742-edcb-5101a17f917f"
   },
   "outputs": [
    {
     "name": "stdout",
     "output_type": "stream",
     "text": [
      "X ⤵️ is less than 100 True\n"
     ]
    }
   ],
   "source": [
    "x = 10\n",
    "if x == 100:\n",
    "  print('X is 💯 That is True!')\n",
    "if x < 100:\n",
    "  print('X ⤵️ is less than 100 True')\n",
    "if x > 100:\n",
    "  print('X ⤴️ is more Than 100 True!')"
   ]
  },
  {
   "cell_type": "code",
   "execution_count": 4,
   "metadata": {
    "colab": {
     "base_uri": "https://localhost:8080/"
    },
    "id": "WD4qBqFvhfRU",
    "outputId": "8133b25a-ffd8-4217-e31e-2b6367ab3bf1"
   },
   "outputs": [
    {
     "name": "stdout",
     "output_type": "stream",
     "text": [
      "This value is Between 100-200\n",
      "This Value is Between 100-150\n",
      "This Value is Between 100-125\n",
      "This Value is Between 100-112\n",
      "This Value is Between 100-105\n"
     ]
    }
   ],
   "source": [
    "x = 103 # The True Value\n",
    "if x <= 100:\n",
    "  print('This Value is Between 0-100')\n",
    "if x >= 100 and x <= 200:\n",
    "  print('This value is Between 100-200')\n",
    "if x >= 100 and x <= 150:\n",
    "  print(\"This Value is Between 100-150\")\n",
    "if x >= 100 and x <= 125:\n",
    "  print('This Value is Between 100-125')\n",
    "if x >= 100 and x <= 112:\n",
    "  print('This Value is Between 100-112')\n",
    "if x >= 100 and x <= 105:\n",
    "  print('This Value is Between 100-105')\n",
    "\n"
   ]
  }
 ],
 "metadata": {
  "colab": {
   "provenance": []
  },
  "kernelspec": {
   "display_name": "Python 3 (ipykernel)",
   "language": "python",
   "name": "python3"
  },
  "language_info": {
   "codemirror_mode": {
    "name": "ipython",
    "version": 3
   },
   "file_extension": ".py",
   "mimetype": "text/x-python",
   "name": "python",
   "nbconvert_exporter": "python",
   "pygments_lexer": "ipython3",
   "version": "3.11.4"
  }
 },
 "nbformat": 4,
 "nbformat_minor": 1
}
